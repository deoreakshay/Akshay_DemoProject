{
  "nbformat": 4,
  "nbformat_minor": 0,
  "metadata": {
    "colab": {
      "name": "Day1-bootcamp.ipynb",
      "provenance": [],
      "collapsed_sections": [],
      "authorship_tag": "ABX9TyP6K+M9EAgg1pSq+hr1opdS",
      "include_colab_link": true
    },
    "kernelspec": {
      "name": "python3",
      "display_name": "Python 3"
    },
    "language_info": {
      "name": "python"
    }
  },
  "cells": [
    {
      "cell_type": "markdown",
      "metadata": {
        "id": "view-in-github",
        "colab_type": "text"
      },
      "source": [
        "<a href=\"https://colab.research.google.com/github/deoreakshay/Akshay_DemoProject/blob/master/Day1_bootcamp.ipynb\" target=\"_parent\"><img src=\"https://colab.research.google.com/assets/colab-badge.svg\" alt=\"Open In Colab\"/></a>"
      ]
    },
    {
      "cell_type": "code",
      "metadata": {
        "colab": {
          "base_uri": "https://localhost:8080/"
        },
        "id": "Jr51D0OPwhT4",
        "outputId": "05618a1c-168c-4970-9f41-14cc1db3e15d"
      },
      "source": [
        "print(\"I like python bootcamp\")"
      ],
      "execution_count": 1,
      "outputs": [
        {
          "output_type": "stream",
          "text": [
            "I like python bootcamp\n"
          ],
          "name": "stdout"
        }
      ]
    },
    {
      "cell_type": "code",
      "metadata": {
        "colab": {
          "base_uri": "https://localhost:8080/"
        },
        "id": "rgexQsZdxkCX",
        "outputId": "91a7118d-9d69-4975-d524-6dff0e090118"
      },
      "source": [
        "print('I like ' + 'python bootcamp')"
      ],
      "execution_count": 3,
      "outputs": [
        {
          "output_type": "stream",
          "text": [
            "I like python bootcamp\n"
          ],
          "name": "stdout"
        }
      ]
    },
    {
      "cell_type": "code",
      "metadata": {
        "colab": {
          "base_uri": "https://localhost:8080/",
          "height": 35
        },
        "id": "3dWjYDvpyChO",
        "outputId": "9432d921-7836-4d4f-d00e-29da09a539a8"
      },
      "source": [
        "\"My name is Akshay\"[11]"
      ],
      "execution_count": 5,
      "outputs": [
        {
          "output_type": "execute_result",
          "data": {
            "application/vnd.google.colaboratory.intrinsic+json": {
              "type": "string"
            },
            "text/plain": [
              "'A'"
            ]
          },
          "metadata": {
            "tags": []
          },
          "execution_count": 5
        }
      ]
    },
    {
      "cell_type": "code",
      "metadata": {
        "colab": {
          "base_uri": "https://localhost:8080/",
          "height": 35
        },
        "id": "kvtHFqNUyV_U",
        "outputId": "8fe7a0dc-529c-4922-b2f1-397027cf3770"
      },
      "source": [
        "\"My name is Akshay\"[11:]"
      ],
      "execution_count": 6,
      "outputs": [
        {
          "output_type": "execute_result",
          "data": {
            "application/vnd.google.colaboratory.intrinsic+json": {
              "type": "string"
            },
            "text/plain": [
              "'Akshay'"
            ]
          },
          "metadata": {
            "tags": []
          },
          "execution_count": 6
        }
      ]
    },
    {
      "cell_type": "code",
      "metadata": {
        "colab": {
          "base_uri": "https://localhost:8080/",
          "height": 35
        },
        "id": "BHcvZGEcyjMa",
        "outputId": "1882f88b-7c2d-44d5-9a7f-cae5186569d5"
      },
      "source": [
        "\"My name is Akshay\"[6:12]"
      ],
      "execution_count": 8,
      "outputs": [
        {
          "output_type": "execute_result",
          "data": {
            "application/vnd.google.colaboratory.intrinsic+json": {
              "type": "string"
            },
            "text/plain": [
              "'e is A'"
            ]
          },
          "metadata": {
            "tags": []
          },
          "execution_count": 8
        }
      ]
    },
    {
      "cell_type": "code",
      "metadata": {
        "colab": {
          "base_uri": "https://localhost:8080/"
        },
        "id": "GD-XWwlOyzU8",
        "outputId": "ba862b8b-e5c6-43a6-9c3f-fd6c3293536a"
      },
      "source": [
        "1+1"
      ],
      "execution_count": 9,
      "outputs": [
        {
          "output_type": "execute_result",
          "data": {
            "text/plain": [
              "2"
            ]
          },
          "metadata": {
            "tags": []
          },
          "execution_count": 9
        }
      ]
    },
    {
      "cell_type": "code",
      "metadata": {
        "colab": {
          "base_uri": "https://localhost:8080/"
        },
        "id": "APY4uZqazp05",
        "outputId": "3fc22bd0-b188-4724-c0e8-93222bb9b5d6"
      },
      "source": [
        "2*5"
      ],
      "execution_count": 10,
      "outputs": [
        {
          "output_type": "execute_result",
          "data": {
            "text/plain": [
              "10"
            ]
          },
          "metadata": {
            "tags": []
          },
          "execution_count": 10
        }
      ]
    },
    {
      "cell_type": "code",
      "metadata": {
        "colab": {
          "base_uri": "https://localhost:8080/"
        },
        "id": "_zDuLdWuzsBI",
        "outputId": "6d0bb840-70b2-4856-f131-1ee2cc2223e1"
      },
      "source": [
        "2 ** 3"
      ],
      "execution_count": 11,
      "outputs": [
        {
          "output_type": "execute_result",
          "data": {
            "text/plain": [
              "8"
            ]
          },
          "metadata": {
            "tags": []
          },
          "execution_count": 11
        }
      ]
    },
    {
      "cell_type": "code",
      "metadata": {
        "colab": {
          "base_uri": "https://localhost:8080/"
        },
        "id": "90H-S_I0z6J6",
        "outputId": "e4e7d8c1-6dcd-4530-c3a5-d497728f341a"
      },
      "source": [
        "11 / 5"
      ],
      "execution_count": 12,
      "outputs": [
        {
          "output_type": "execute_result",
          "data": {
            "text/plain": [
              "2.2"
            ]
          },
          "metadata": {
            "tags": []
          },
          "execution_count": 12
        }
      ]
    },
    {
      "cell_type": "code",
      "metadata": {
        "colab": {
          "base_uri": "https://localhost:8080/"
        },
        "id": "MsUF-f-wz-mL",
        "outputId": "5becb0fe-807a-4e79-89a9-da20462741b5"
      },
      "source": [
        "11 // 5"
      ],
      "execution_count": 13,
      "outputs": [
        {
          "output_type": "execute_result",
          "data": {
            "text/plain": [
              "2"
            ]
          },
          "metadata": {
            "tags": []
          },
          "execution_count": 13
        }
      ]
    },
    {
      "cell_type": "code",
      "metadata": {
        "colab": {
          "base_uri": "https://localhost:8080/"
        },
        "id": "TOJJQhIc0CwD",
        "outputId": "2d913fb5-aa12-429f-8fee-2db27c74b0fb"
      },
      "source": [
        "11 % 5"
      ],
      "execution_count": 14,
      "outputs": [
        {
          "output_type": "execute_result",
          "data": {
            "text/plain": [
              "1"
            ]
          },
          "metadata": {
            "tags": []
          },
          "execution_count": 14
        }
      ]
    },
    {
      "cell_type": "code",
      "metadata": {
        "colab": {
          "base_uri": "https://localhost:8080/"
        },
        "id": "YmfMshmA0yzV",
        "outputId": "8ff3cfd3-98ad-4268-cb3d-0acac2543e30"
      },
      "source": [
        "int(100.0)"
      ],
      "execution_count": 15,
      "outputs": [
        {
          "output_type": "execute_result",
          "data": {
            "text/plain": [
              "100"
            ]
          },
          "metadata": {
            "tags": []
          },
          "execution_count": 15
        }
      ]
    },
    {
      "cell_type": "code",
      "metadata": {
        "colab": {
          "base_uri": "https://localhost:8080/"
        },
        "id": "iBPBePQZ07kl",
        "outputId": "6e915c47-90e5-48b1-e151-9159c94555d7"
      },
      "source": [
        "float(100.23)\n",
        "\n",
        "12345.678"
      ],
      "execution_count": 18,
      "outputs": [
        {
          "output_type": "execute_result",
          "data": {
            "text/plain": [
              "12345.678"
            ]
          },
          "metadata": {
            "tags": []
          },
          "execution_count": 18
        }
      ]
    },
    {
      "cell_type": "code",
      "metadata": {
        "colab": {
          "base_uri": "https://localhost:8080/",
          "height": 35
        },
        "id": "8Ka4sq9O0-MZ",
        "outputId": "2db0d198-bf07-4898-b201-5a4936b19ddf"
      },
      "source": [
        "str('100.34')"
      ],
      "execution_count": 17,
      "outputs": [
        {
          "output_type": "execute_result",
          "data": {
            "application/vnd.google.colaboratory.intrinsic+json": {
              "type": "string"
            },
            "text/plain": [
              "'100.34'"
            ]
          },
          "metadata": {
            "tags": []
          },
          "execution_count": 17
        }
      ]
    },
    {
      "cell_type": "code",
      "metadata": {
        "colab": {
          "base_uri": "https://localhost:8080/"
        },
        "id": "lJT5RYSS2WZ9",
        "outputId": "fd7defc5-b993-435f-8b1d-9ae046b59a0a"
      },
      "source": [
        "banner = \"hey Akshay\"\n",
        "print(banner)"
      ],
      "execution_count": 19,
      "outputs": [
        {
          "output_type": "stream",
          "text": [
            "hey Akshay\n"
          ],
          "name": "stdout"
        }
      ]
    },
    {
      "cell_type": "code",
      "metadata": {
        "colab": {
          "base_uri": "https://localhost:8080/"
        },
        "id": "uQgFlru335TQ",
        "outputId": "9e87fc2c-a5ee-4d84-f599-917e6345fd21"
      },
      "source": [
        "5 == 5 and 4 == 4"
      ],
      "execution_count": 23,
      "outputs": [
        {
          "output_type": "execute_result",
          "data": {
            "text/plain": [
              "True"
            ]
          },
          "metadata": {
            "tags": []
          },
          "execution_count": 23
        }
      ]
    },
    {
      "cell_type": "code",
      "metadata": {
        "colab": {
          "base_uri": "https://localhost:8080/"
        },
        "id": "VKhMHCiK4Ez9",
        "outputId": "c00bdd8e-23c2-46d6-bf03-a95d8416138d"
      },
      "source": [
        "8 > 7"
      ],
      "execution_count": 24,
      "outputs": [
        {
          "output_type": "execute_result",
          "data": {
            "text/plain": [
              "True"
            ]
          },
          "metadata": {
            "tags": []
          },
          "execution_count": 24
        }
      ]
    },
    {
      "cell_type": "code",
      "metadata": {
        "colab": {
          "base_uri": "https://localhost:8080/"
        },
        "id": "1vKA7zpc4KyQ",
        "outputId": "c627aad0-472c-430c-c8bb-ac29e731f6b9"
      },
      "source": [
        "5 == 5 or 4 == 3"
      ],
      "execution_count": 25,
      "outputs": [
        {
          "output_type": "execute_result",
          "data": {
            "text/plain": [
              "True"
            ]
          },
          "metadata": {
            "tags": []
          },
          "execution_count": 25
        }
      ]
    },
    {
      "cell_type": "markdown",
      "metadata": {
        "id": "FrWXVXGV4qm6"
      },
      "source": [
        "Lists"
      ]
    },
    {
      "cell_type": "code",
      "metadata": {
        "id": "vTfaNEGf4xDo"
      },
      "source": [
        "list = []"
      ],
      "execution_count": 26,
      "outputs": []
    },
    {
      "cell_type": "code",
      "metadata": {
        "colab": {
          "base_uri": "https://localhost:8080/"
        },
        "id": "xXNqFxh65UTa",
        "outputId": "9be9a40b-1a3a-4927-fd68-eab7c7fad8d6"
      },
      "source": [
        "grocery_list = ['tomato', 'pizza', 'carrots']\n",
        "print(grocery_list)\n",
        "print(grocery_list[2])"
      ],
      "execution_count": 29,
      "outputs": [
        {
          "output_type": "stream",
          "text": [
            "['tomato', 'pizza', 'carrots']\n",
            "carrots\n"
          ],
          "name": "stdout"
        }
      ]
    },
    {
      "cell_type": "code",
      "metadata": {
        "colab": {
          "base_uri": "https://localhost:8080/",
          "height": 35
        },
        "id": "hiFHydRn5wwx",
        "outputId": "66a1f873-12f0-4ac9-902b-49194c116d81"
      },
      "source": [
        "grocery_list[2][3]"
      ],
      "execution_count": 31,
      "outputs": [
        {
          "output_type": "execute_result",
          "data": {
            "application/vnd.google.colaboratory.intrinsic+json": {
              "type": "string"
            },
            "text/plain": [
              "'r'"
            ]
          },
          "metadata": {
            "tags": []
          },
          "execution_count": 31
        }
      ]
    },
    {
      "cell_type": "code",
      "metadata": {
        "colab": {
          "base_uri": "https://localhost:8080/"
        },
        "id": "rN2-8d6b7Yso",
        "outputId": "c7438055-f380-41c7-d27b-f2f66126c890"
      },
      "source": [
        "message = \"I am not a liar\"\n",
        "for i in range(10):\n",
        "  print(message)"
      ],
      "execution_count": 33,
      "outputs": [
        {
          "output_type": "stream",
          "text": [
            "I am not a liar\n",
            "I am not a liar\n",
            "I am not a liar\n",
            "I am not a liar\n",
            "I am not a liar\n",
            "I am not a liar\n",
            "I am not a liar\n",
            "I am not a liar\n",
            "I am not a liar\n",
            "I am not a liar\n"
          ],
          "name": "stdout"
        }
      ]
    },
    {
      "cell_type": "code",
      "metadata": {
        "colab": {
          "base_uri": "https://localhost:8080/"
        },
        "id": "cbr4lJMI6tup",
        "outputId": "112bd1dd-900b-494e-87c4-ebed708d2218"
      },
      "source": [
        "grades = [11,34,25,89]\n",
        "\n",
        "for i in grades:\n",
        "  print(i + 10)"
      ],
      "execution_count": 35,
      "outputs": [
        {
          "output_type": "stream",
          "text": [
            "21\n",
            "44\n",
            "35\n",
            "99\n"
          ],
          "name": "stdout"
        }
      ]
    },
    {
      "cell_type": "code",
      "metadata": {
        "colab": {
          "base_uri": "https://localhost:8080/"
        },
        "id": "77VU0z1B-SKz",
        "outputId": "e2a3cef5-f356-4f48-bbd2-a6fc8158eeb5"
      },
      "source": [
        "for i in range(4):\n",
        "  print(grades[i])"
      ],
      "execution_count": 38,
      "outputs": [
        {
          "output_type": "stream",
          "text": [
            "11\n",
            "34\n",
            "25\n",
            "89\n"
          ],
          "name": "stdout"
        }
      ]
    },
    {
      "cell_type": "code",
      "metadata": {
        "colab": {
          "base_uri": "https://localhost:8080/"
        },
        "id": "PXA-uIyD_EO5",
        "outputId": "80e79a38-d192-4469-9592-6df160256ac2"
      },
      "source": [
        "myset = {\"apple\", \"banana\", \"cherry\"}\n",
        "'apple' in myset"
      ],
      "execution_count": 39,
      "outputs": [
        {
          "output_type": "execute_result",
          "data": {
            "text/plain": [
              "True"
            ]
          },
          "metadata": {
            "tags": []
          },
          "execution_count": 39
        }
      ]
    },
    {
      "cell_type": "code",
      "metadata": {
        "colab": {
          "base_uri": "https://localhost:8080/"
        },
        "id": "4EXBebiNAK0Y",
        "outputId": "9440597f-022a-48dc-9bbc-9b1da4707345"
      },
      "source": [
        "'pineapple' in myset\n"
      ],
      "execution_count": 40,
      "outputs": [
        {
          "output_type": "execute_result",
          "data": {
            "text/plain": [
              "False"
            ]
          },
          "metadata": {
            "tags": []
          },
          "execution_count": 40
        }
      ]
    },
    {
      "cell_type": "markdown",
      "metadata": {
        "id": "EUSdVKlfGvEv"
      },
      "source": [
        "Dictionary\n"
      ]
    },
    {
      "cell_type": "code",
      "metadata": {
        "colab": {
          "base_uri": "https://localhost:8080/"
        },
        "id": "mbbCYvH8GxMu",
        "outputId": "3d56233e-76ea-4d1c-c071-6b0051c0a0ec"
      },
      "source": [
        "dictionary = {}\n",
        "kids_dict = {'add':'addition', 'sub':'substraction', 'mult':'multiplication'}\n",
        "print(kids_dict)"
      ],
      "execution_count": 42,
      "outputs": [
        {
          "output_type": "stream",
          "text": [
            "{'add': 'addition', 'sub': 'substraction', 'mult': 'multiplication'}\n"
          ],
          "name": "stdout"
        }
      ]
    },
    {
      "cell_type": "code",
      "metadata": {
        "colab": {
          "base_uri": "https://localhost:8080/"
        },
        "id": "7U0ScFGjHP_l",
        "outputId": "63abe624-d1a8-44d0-8bef-6ddcb6899ec4"
      },
      "source": [
        "print(kids_dict['mult'])"
      ],
      "execution_count": 43,
      "outputs": [
        {
          "output_type": "stream",
          "text": [
            "multiplication\n"
          ],
          "name": "stdout"
        }
      ]
    },
    {
      "cell_type": "code",
      "metadata": {
        "colab": {
          "base_uri": "https://localhost:8080/"
        },
        "id": "xPQV7tc1HYIY",
        "outputId": "e1807329-2daf-4445-d406-6916899d646a"
      },
      "source": [
        "print(kids_dict.items())"
      ],
      "execution_count": 44,
      "outputs": [
        {
          "output_type": "stream",
          "text": [
            "dict_items([('add', 'addition'), ('sub', 'substraction'), ('mult', 'multiplication')])\n"
          ],
          "name": "stdout"
        }
      ]
    },
    {
      "cell_type": "code",
      "metadata": {
        "colab": {
          "base_uri": "https://localhost:8080/"
        },
        "id": "buFVsESPHc3J",
        "outputId": "0b12c5a9-68a9-4272-b4ad-a3f8e9791470"
      },
      "source": [
        "print(kids_dict.values())"
      ],
      "execution_count": 46,
      "outputs": [
        {
          "output_type": "stream",
          "text": [
            "dict_values(['addition', 'substraction', 'multiplication'])\n"
          ],
          "name": "stdout"
        }
      ]
    },
    {
      "cell_type": "code",
      "metadata": {
        "colab": {
          "base_uri": "https://localhost:8080/"
        },
        "id": "dh-fOwNMH5AZ",
        "outputId": "db8c62c2-f2ec-4ebb-d325-90e091ba7c27"
      },
      "source": [
        "print(kids_dict.keys())"
      ],
      "execution_count": 47,
      "outputs": [
        {
          "output_type": "stream",
          "text": [
            "dict_keys(['add', 'sub', 'mult'])\n"
          ],
          "name": "stdout"
        }
      ]
    },
    {
      "cell_type": "code",
      "metadata": {
        "colab": {
          "base_uri": "https://localhost:8080/"
        },
        "id": "-r6oIJQwIXGS",
        "outputId": "e819e82c-1a62-4af3-d37c-4450d0569937"
      },
      "source": [
        "kids_dict['newlist'] = [5, 'cat', 12]\n",
        "print(kids_dict)"
      ],
      "execution_count": 51,
      "outputs": [
        {
          "output_type": "stream",
          "text": [
            "{'add': 'addition', 'sub': 'substraction', 'mult': 'multiplication', 'newlist': [5, 'cat', 12]}\n"
          ],
          "name": "stdout"
        }
      ]
    },
    {
      "cell_type": "markdown",
      "metadata": {
        "id": "wnNMtUWDKqaa"
      },
      "source": [
        "TUples: same like list but you cant achange it"
      ]
    },
    {
      "cell_type": "code",
      "metadata": {
        "colab": {
          "base_uri": "https://localhost:8080/"
        },
        "id": "w5u8uPM4KiB7",
        "outputId": "c3fd4094-b6bc-40e9-887c-07586df923e7"
      },
      "source": [
        "gps_coordinate = ('1234.56', '3456.21', 'my house')\n",
        "print(gps_coordinate)"
      ],
      "execution_count": 52,
      "outputs": [
        {
          "output_type": "stream",
          "text": [
            "('1234.56', '3456.21', 'my house')\n"
          ],
          "name": "stdout"
        }
      ]
    },
    {
      "cell_type": "markdown",
      "metadata": {
        "id": "WO-pY7T2LJcS"
      },
      "source": [
        "Functions\n"
      ]
    },
    {
      "cell_type": "code",
      "metadata": {
        "colab": {
          "base_uri": "https://localhost:8080/"
        },
        "id": "70V3PmQTKnJx",
        "outputId": "f134693f-0070-4bd5-9014-6f74dcd18a18"
      },
      "source": [
        "def myfirstFunction():\n",
        "  print(\"I am python developer\")\n",
        "\n",
        "myfirstFunction()"
      ],
      "execution_count": 54,
      "outputs": [
        {
          "output_type": "stream",
          "text": [
            "I am python developer\n"
          ],
          "name": "stdout"
        }
      ]
    },
    {
      "cell_type": "code",
      "metadata": {
        "colab": {
          "base_uri": "https://localhost:8080/"
        },
        "id": "Hx1BdW6dLkDw",
        "outputId": "a86b3a7a-6f5d-48b6-c242-ef1e442f5361"
      },
      "source": [
        "def mysecondFunction():\n",
        "  print(1+1)\n",
        "\n",
        "mysecondFunction()"
      ],
      "execution_count": 55,
      "outputs": [
        {
          "output_type": "stream",
          "text": [
            "2\n"
          ],
          "name": "stdout"
        }
      ]
    },
    {
      "cell_type": "code",
      "metadata": {
        "colab": {
          "base_uri": "https://localhost:8080/"
        },
        "id": "YVpAmxDULwyd",
        "outputId": "7dfd832d-0253-4013-d2ff-049581c9582a"
      },
      "source": [
        "def myThirdFunction(word):\n",
        "  print(\"my nes word is :\" , word)\n",
        "\n",
        "myThirdFunction(\"awesome\")"
      ],
      "execution_count": 57,
      "outputs": [
        {
          "output_type": "stream",
          "text": [
            "my nes word is : awesome\n"
          ],
          "name": "stdout"
        }
      ]
    },
    {
      "cell_type": "markdown",
      "metadata": {
        "id": "YvcGYd3hMVvi"
      },
      "source": [
        "CHATBOT"
      ]
    },
    {
      "cell_type": "code",
      "metadata": {
        "colab": {
          "base_uri": "https://localhost:8080/"
        },
        "id": "rAZQqTGWMYA0",
        "outputId": "20c077d2-97ca-4f29-f180-de30611b1cc8"
      },
      "source": [
        "response = input(\"Tell me something funny.\")"
      ],
      "execution_count": 58,
      "outputs": [
        {
          "output_type": "stream",
          "text": [
            "Tell me something funny.add 2 values\n"
          ],
          "name": "stdout"
        }
      ]
    },
    {
      "cell_type": "code",
      "metadata": {
        "colab": {
          "base_uri": "https://localhost:8080/"
        },
        "id": "bjVBJ3nsMsuT",
        "outputId": "222c42c2-8ed1-40c0-def2-9fba85afe433"
      },
      "source": [
        "print(response)"
      ],
      "execution_count": 59,
      "outputs": [
        {
          "output_type": "stream",
          "text": [
            "add 2 values\n"
          ],
          "name": "stdout"
        }
      ]
    },
    {
      "cell_type": "code",
      "metadata": {
        "id": "07LtRzn9Mzxs"
      },
      "source": [
        "def Chatbot():\n",
        "  I_say = input(\"Hello, Tell me something:\")\n",
        "\n",
        "  if I_say == 'Hello':\n",
        "    print(\"Hello to you as well. How are you\")\n",
        "\n",
        "  if I_say == \"Turn on my TV\":\n",
        "    print(\"Turning on your TV:\")\n",
        "\n",
        "  if I_say == \"I dont like cabbage\":\n",
        "    print(\"then dont eat it.\")"
      ],
      "execution_count": 60,
      "outputs": []
    },
    {
      "cell_type": "code",
      "metadata": {
        "colab": {
          "base_uri": "https://localhost:8080/"
        },
        "id": "XcfUuHlkOM74",
        "outputId": "9ac23980-2bd2-485e-f1cf-b6ec41ec9963"
      },
      "source": [
        "Chatbot()"
      ],
      "execution_count": 63,
      "outputs": [
        {
          "output_type": "stream",
          "text": [
            "Hello, Tell me something:nothing\n"
          ],
          "name": "stdout"
        }
      ]
    },
    {
      "cell_type": "code",
      "metadata": {
        "id": "IvJw73DgPdQm"
      },
      "source": [
        "def ChatBot2():\n",
        "  I_say = input(\"Whats your favourite number?\")\n",
        "  \n",
        "  print(str(I_say) + \" what a dumb number\")"
      ],
      "execution_count": 69,
      "outputs": []
    },
    {
      "cell_type": "code",
      "metadata": {
        "colab": {
          "base_uri": "https://localhost:8080/"
        },
        "id": "Y-ZJsIuCP9Rj",
        "outputId": "a8900e1e-0b80-4af2-dc1c-49bdb0ea0f25"
      },
      "source": [
        "ChatBot2()"
      ],
      "execution_count": 70,
      "outputs": [
        {
          "output_type": "stream",
          "text": [
            "Whats your favourite number?45\n",
            "45 what a dumb number\n"
          ],
          "name": "stdout"
        }
      ]
    },
    {
      "cell_type": "code",
      "metadata": {
        "colab": {
          "base_uri": "https://localhost:8080/"
        },
        "id": "QvDBL8usSmkn",
        "outputId": "81029dc1-5f07-4f78-ea49-13430ba64063"
      },
      "source": [
        "import time\n",
        "\n",
        "time.sleep(10)\n",
        "print('end')"
      ],
      "execution_count": 71,
      "outputs": [
        {
          "output_type": "stream",
          "text": [
            "end\n"
          ],
          "name": "stdout"
        }
      ]
    },
    {
      "cell_type": "code",
      "metadata": {
        "id": "LyPYt7BlZ0ZB"
      },
      "source": [
        ""
      ],
      "execution_count": null,
      "outputs": []
    },
    {
      "cell_type": "code",
      "metadata": {
        "colab": {
          "base_uri": "https://localhost:8080/"
        },
        "id": "lvkkMdKzSw8C",
        "outputId": "1c81827c-ae24-4b66-a817-3350706b713a"
      },
      "source": [
        "import random\n",
        "\n",
        "random.randint(1, 15)"
      ],
      "execution_count": 74,
      "outputs": [
        {
          "output_type": "execute_result",
          "data": {
            "text/plain": [
              "14"
            ]
          },
          "metadata": {
            "tags": []
          },
          "execution_count": 74
        }
      ]
    }
  ]
}